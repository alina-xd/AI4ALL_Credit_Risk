{
 "cells": [
  {
   "cell_type": "markdown",
   "id": "8d5cfb0d",
   "metadata": {},
   "source": [
    "import stuff and load dataset"
   ]
  },
  {
   "cell_type": "code",
   "execution_count": null,
   "id": "5dd19130",
   "metadata": {},
   "outputs": [],
   "source": [
    "import numpy as np\n",
    "import pandas as pd\n",
    "\n",
    "df=pd.read_csv(\"loan_default_categorical.csv\")"
   ]
  }
 ],
 "metadata": {
  "kernelspec": {
   "display_name": "base",
   "language": "python",
   "name": "python3"
  },
  "language_info": {
   "name": "python",
   "version": "3.12.2"
  }
 },
 "nbformat": 4,
 "nbformat_minor": 5
}
